{
 "metadata": {
  "language_info": {
   "codemirror_mode": {
    "name": "ipython",
    "version": 3
   },
   "file_extension": ".py",
   "mimetype": "text/x-python",
   "name": "python",
   "nbconvert_exporter": "python",
   "pygments_lexer": "ipython3",
   "version": "3.8.6"
  },
  "orig_nbformat": 2,
  "kernelspec": {
   "name": "python3",
   "display_name": "Python 3",
   "language": "python"
  }
 },
 "nbformat": 4,
 "nbformat_minor": 2,
 "cells": [
  {
   "cell_type": "code",
   "execution_count": 2,
   "metadata": {},
   "outputs": [
    {
     "output_type": "stream",
     "name": "stdout",
     "text": [
      "1\n"
     ]
    }
   ],
   "source": [
    "print(1)"
   ]
  },
  {
   "cell_type": "code",
   "execution_count": 18,
   "metadata": {},
   "outputs": [
    {
     "output_type": "execute_result",
     "data": {
      "text/plain": [
       "3"
      ]
     },
     "metadata": {},
     "execution_count": 18
    }
   ],
   "source": [
    "# naive\n",
    "def q1_naive(A):\n",
    "    for i in range(1, 1000000):\n",
    "        if i not in A:\n",
    "            return i  \n",
    "\n",
    "q1([1,2,4])"
   ]
  },
  {
   "cell_type": "code",
   "execution_count": 38,
   "metadata": {},
   "outputs": [
    {
     "output_type": "execute_result",
     "data": {
      "text/plain": [
       "4"
      ]
     },
     "metadata": {},
     "execution_count": 38
    }
   ],
   "source": [
    "def q1(A):\n",
    "    \n",
    "   \n",
    "    max_A = max(A)\n",
    "\n",
    "    # each element of array A is an integer within the range [-1,000,000..1,000,000]\n",
    "    # > there is a high chance most are negative\n",
    "    if max_A < 2:\n",
    "        return 1\n",
    "    \n",
    "    A_new = set(A)\n",
    "\n",
    "    X = set(range(1, max_A + 1)) # great memory usage\n",
    "    X -= A_new\n",
    "    if len(X) == 0:\n",
    "        return max_A + 1\n",
    "    else:\n",
    "        return min(X)\n",
    "\n",
    "\n",
    "\n",
    "    \n",
    "\n",
    "q1([1,2,3,3])"
   ]
  },
  {
   "cell_type": "code",
   "execution_count": 25,
   "metadata": {},
   "outputs": [
    {
     "output_type": "stream",
     "name": "stdout",
     "text": [
      "days passed on year so far:  90\nweekday: 1\nfrom next monday:  -6\nFrom monday to last day 55\nLast day of last month 5\n"
     ]
    },
    {
     "output_type": "execute_result",
     "data": {
      "text/plain": [
       "7.0"
      ]
     },
     "metadata": {},
     "execution_count": 25
    }
   ],
   "source": [
    "# one plane per week  hawai->Johncity\n",
    "    ## depart monday , arrive sunday\n",
    "    ## There is no other way to get to Hawaii and back. It means that John can spend only whole weeks in Hawaii\n",
    "\n",
    "def q2(y, a, b, w):\n",
    "        weekdays = {\"Monday\":0, \"Tuesday\":1, \"Wednesday\":2, \"Thursday\":3, \"Friday\":4, \"Saturday\":5, \"Sunday\":6}\n",
    "        months = {\"January\":0, \"February\":1, \"March\":2, \"April\":3, \"May\":4, \"June\":5, \"July\":6, \"August\":7, \"September\":8, \"October\":9, \"November\":10, \"December\":11}\n",
    "        monthdays = [31, 28, 31, 30, 31, 30, 31, 31, 30, 31, 30, 31]\n",
    "        monthdays[1] += y % 4 == 0\n",
    "\n",
    "        # day of week for Jan 1 that year\n",
    "        weekDayJan = weekdays[w]\n",
    "        monthStart = months[a]\n",
    "        monthEnd = months[b]\n",
    "        dayCtStart = monthdays[monthStart]\n",
    "        dayCtEnd = monthdays[monthEnd]\n",
    "        daysCt = 0\n",
    "\n",
    "        # find weekday\n",
    "        monthsCt = monthStart\n",
    "        # > jan\n",
    "        while (monthsCt > 0): \n",
    "                monthsCt-= 1\n",
    "                daysCt += monthdays[monthsCt]\n",
    "               \n",
    "        print(\"days passed on year so far: \", daysCt)\n",
    "        daysCt %= 7\n",
    "        \n",
    "        weekdayBegin = (weekDayJan + daysCt) % 7\n",
    "        print(\"weekday:\", weekdayBegin) # tuesday\n",
    "\n",
    "        daysCt = - ((7 - weekdayBegin) % 7)\n",
    "        print(\"from next monday: \", daysCt)\n",
    "        \n",
    "        monthsCt = monthStart\n",
    "        while (monthsCt < monthEnd + 1):\n",
    "            daysCt += monthdays[monthsCt]\n",
    "            monthsCt += 1\n",
    "        \n",
    "\n",
    "\n",
    "        print(\"From monday to last day\", daysCt)\n",
    "        mondayTrack = daysCt % 7 - 1# 0-> monday, 6-> sunday\n",
    "        print(\"Last day of last month\", mondayTrack)\n",
    "        # 0 -> -1\n",
    "        # 1 -> -2\n",
    "        # 5 -> -6\n",
    "        # round to last sunday\n",
    "        daysCt -= (mondayTrack + 1)\n",
    "        return daysCt / 7\n",
    "\n",
    "    \n",
    "\n",
    "\n",
    "q2(2014, \"April\", \"May\", \"Wednesday\") # ret 7"
   ]
  }
 ]
}